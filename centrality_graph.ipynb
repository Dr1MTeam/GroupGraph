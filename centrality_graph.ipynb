{
 "cells": [
  {
   "cell_type": "code",
   "execution_count": 1,
   "id": "initial_id",
   "metadata": {
    "collapsed": true,
    "ExecuteTime": {
     "end_time": "2024-10-04T19:25:43.630690500Z",
     "start_time": "2024-10-04T19:25:43.022689200Z"
    }
   },
   "outputs": [],
   "source": [
    "import json\n",
    "import numpy as np\n",
    "from scipy.sparse import csr_matrix\n",
    "import networkx as nx"
   ]
  },
  {
   "cell_type": "code",
   "outputs": [],
   "source": [
    "with open('friends_data.json', 'r', encoding='utf-8') as file:\n",
    "    data = json.load(file)"
   ],
   "metadata": {
    "collapsed": false,
    "ExecuteTime": {
     "end_time": "2024-10-04T19:25:57.047573300Z",
     "start_time": "2024-10-04T19:25:56.982053800Z"
    }
   },
   "id": "f3d27e2cf893b485",
   "execution_count": 2
  },
  {
   "cell_type": "code",
   "outputs": [],
   "source": [
    "# Создание множества уникальных вершин\n",
    "a_set = set()\n",
    "for key, values in data.items():\n",
    "    a_set.add(int(key))\n",
    "    for value in values:\n",
    "        a_set.add(value)\n"
   ],
   "metadata": {
    "collapsed": false,
    "ExecuteTime": {
     "end_time": "2024-10-04T19:26:09.550183200Z",
     "start_time": "2024-10-04T19:26:09.543664600Z"
    }
   },
   "id": "6440668259fa939e",
   "execution_count": 3
  },
  {
   "cell_type": "code",
   "outputs": [],
   "source": [
    "vertex_index = {vertex: index for index, vertex in enumerate(sorted(a_set))}\n",
    "\n",
    "row_indices = []\n",
    "col_indices = []\n",
    "\n",
    "# Заполнение списков индексов для рёбер\n",
    "for vertex, connections in data.items():\n",
    "    for connection in connections:\n",
    "        row_indices.append(vertex_index[int(vertex)])\n",
    "        col_indices.append(vertex_index[connection])"
   ],
   "metadata": {
    "collapsed": false,
    "ExecuteTime": {
     "end_time": "2024-10-04T19:26:21.359116600Z",
     "start_time": "2024-10-04T19:26:20.998115Z"
    }
   },
   "id": "7617d26cb7594e8",
   "execution_count": 4
  },
  {
   "cell_type": "code",
   "outputs": [],
   "source": [
    "# Создание разреженной матрицы смежности\n",
    "adjacency_matrix = csr_matrix((np.ones(len(row_indices)), (row_indices, col_indices)), shape=(len(a_set), len(a_set)))\n",
    "\n",
    "# Создание графа из разреженной матрицы смежности\n",
    "G = nx.from_scipy_sparse_array(adjacency_matrix)\n",
    "\n",
    "# Заданные ID для анализа\n",
    "target_ids = [\n",
    "    290530655, 1931147, 207227130, 253340861,\n",
    "    138042735, 172244589, 168420440, 711398942,\n",
    "    65657314, 50933461, 198216820, 268235974\n",
    "]"
   ],
   "metadata": {
    "collapsed": false,
    "ExecuteTime": {
     "end_time": "2024-10-04T19:26:35.460840Z",
     "start_time": "2024-10-04T19:26:33.299525300Z"
    }
   },
   "id": "aeb80f5be81024c0",
   "execution_count": 5
  },
  {
   "cell_type": "code",
   "outputs": [
    {
     "name": "stdout",
     "output_type": "stream",
     "text": [
      "Центральность по посредничеству:\n",
      "Узел: 290530655, Центральность по посредничеству: 0\n",
      "Узел: 1931147, Центральность по посредничеству: 0\n",
      "Узел: 207227130, Центральность по посредничеству: 0\n",
      "Узел: 253340861, Центральность по посредничеству: 0\n",
      "Узел: 138042735, Центральность по посредничеству: 0\n",
      "Узел: 172244589, Центральность по посредничеству: 0\n",
      "Узел: 168420440, Центральность по посредничеству: 0\n",
      "Узел: 711398942, Центральность по посредничеству: 0\n",
      "Узел: 65657314, Центральность по посредничеству: 0\n",
      "Узел: 50933461, Центральность по посредничеству: 0\n",
      "Узел: 198216820, Центральность по посредничеству: 0\n",
      "Узел: 268235974, Центральность по посредничеству: 0\n"
     ]
    }
   ],
   "source": [
    "# Вычисление центральности по посредничеству\n",
    "betweenness = nx.betweenness_centrality(G, k = 50000)\n",
    "print(\"Центральность по посредничеству:\")\n",
    "for node in target_ids:\n",
    "    print(f'Узел: {node}, Центральность по посредничеству: {betweenness.get(node, 0)}')"
   ],
   "metadata": {
    "collapsed": false,
    "ExecuteTime": {
     "end_time": "2024-10-04T19:48:48.208790700Z",
     "start_time": "2024-10-04T19:48:40.295500300Z"
    }
   },
   "id": "e9615004d6fadc7c",
   "execution_count": 10
  },
  {
   "cell_type": "code",
   "outputs": [],
   "source": [],
   "metadata": {
    "collapsed": false
   },
   "id": "b45ca8ba73ac80f9"
  }
 ],
 "metadata": {
  "kernelspec": {
   "display_name": "Python 3",
   "language": "python",
   "name": "python3"
  },
  "language_info": {
   "codemirror_mode": {
    "name": "ipython",
    "version": 2
   },
   "file_extension": ".py",
   "mimetype": "text/x-python",
   "name": "python",
   "nbconvert_exporter": "python",
   "pygments_lexer": "ipython2",
   "version": "2.7.6"
  }
 },
 "nbformat": 4,
 "nbformat_minor": 5
}
