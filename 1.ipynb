{
 "cells": [
  {
   "cell_type": "code",
   "execution_count": 46,
   "metadata": {},
   "outputs": [
    {
     "data": {
      "text/plain": [
       "0     290530655\n",
       "2       1931147\n",
       "3     207227130\n",
       "4     253340861\n",
       "6     138042735\n",
       "7     172244589\n",
       "8     168420440\n",
       "9     711398942\n",
       "12     65657314\n",
       "14     50933461\n",
       "16    198216820\n",
       "18    268235974\n",
       "Name: VK id, dtype: object"
      ]
     },
     "execution_count": 46,
     "metadata": {},
     "output_type": "execute_result"
    }
   ],
   "source": [
    "import pandas as pd\n",
    "\n",
    "# Чтение файла xlsx\n",
    "file_path = '1.xlsx'\n",
    "df = pd.read_excel(file_path)\n",
    "# Поиск строки, где находится заголовок \"VK id\"\n",
    "vk_id_row = df[df.isin([\"VK id\"]).any(axis=1)].index[0]\n",
    "\n",
    "# Установка строки с \"VK id\" в качестве заголовков столбцов\n",
    "df.columns = df.iloc[vk_id_row]\n",
    "\n",
    "# Удаление строк до заголовка\n",
    "df = df.iloc[vk_id_row+1:].reset_index(drop=True)\n",
    "# Отображение результата\n",
    "# Отображение всех непустых данных из столбца \"VK id\"\n",
    "vk_id_data = df[\"VK id\"].dropna()\n",
    "\n",
    "vk_id_data"
   ]
  },
  {
   "cell_type": "code",
   "execution_count": 26,
   "metadata": {},
   "outputs": [],
   "source": [
    "import requests\n",
    "from vk_api import VkApi"
   ]
  },
  {
   "cell_type": "code",
   "execution_count": 27,
   "metadata": {},
   "outputs": [],
   "source": [
    "token = ''"
   ]
  },
  {
   "cell_type": "code",
   "execution_count": 29,
   "metadata": {},
   "outputs": [],
   "source": [
    "vk_session = VkApi(login='rsnek', token=token)\n",
    "\n",
    "vk_session.auth(token_only=True)"
   ]
  },
  {
   "cell_type": "code",
   "execution_count": 30,
   "metadata": {},
   "outputs": [],
   "source": [
    "vk = vk_session.get_api()"
   ]
  },
  {
   "cell_type": "code",
   "execution_count": 52,
   "metadata": {},
   "outputs": [],
   "source": [
    "id_set = set(vk_id_data.values.ravel())\n",
    "set2 = id_set.copy()"
   ]
  },
  {
   "cell_type": "code",
   "execution_count": 53,
   "metadata": {},
   "outputs": [
    {
     "name": "stdout",
     "output_type": "stream",
     "text": [
      "Ошибка при обработке VK ID 65657314: [30] This profile is private\n",
      "Ошибка при обработке VK ID 1931147: [30] This profile is private\n"
     ]
    }
   ],
   "source": [
    "for vk_id in id_set:\n",
    "    try:\n",
    "        # Запрос к VK API для получения друзей пользователя\n",
    "        current = vk.friends.get(user_id=vk_id, access_token=token)\n",
    "        \n",
    "        # Извлечение списка друзей (items) из JSON-ответа\n",
    "        items = current.get('items', [])\n",
    "        set2.update(items)\n",
    "    except Exception as e:\n",
    "        print(f\"Ошибка при обработке VK ID {vk_id}: {e}\")\n",
    "\n",
    "# Список группы + друзья группы"
   ]
  },
  {
   "cell_type": "code",
   "execution_count": 55,
   "metadata": {},
   "outputs": [],
   "source": [
    "set3=set2.copy()"
   ]
  },
  {
   "cell_type": "code",
   "execution_count": 58,
   "metadata": {},
   "outputs": [],
   "source": [
    "import json\n",
    "\n",
    "# Пустой словарь для хранения данных\n",
    "friends_data = {}\n",
    "\n",
    "\n",
    "for vk_id in set2:\n",
    "    try:\n",
    "        # Запрос к VK API для получения друзей пользователя\n",
    "        current = vk.friends.get(user_id=vk_id, access_token=token)\n",
    "        \n",
    "        # Извлечение списка друзей (items) из JSON-ответа\n",
    "        items = current.get('items', [])\n",
    "        # Сохранение данных в словарь\n",
    "        friends_data[vk_id] = items\n",
    "\n",
    "        \n",
    "    except Exception as e:\n",
    "        ...\n"
   ]
  },
  {
   "cell_type": "code",
   "execution_count": 59,
   "metadata": {},
   "outputs": [
    {
     "name": "stdout",
     "output_type": "stream",
     "text": [
      "Данные сохранены в 'friends_data.json'\n"
     ]
    }
   ],
   "source": [
    "# Сохранение данных в JSON файл\n",
    "with open('friends_data.json', 'w', encoding='utf-8') as f:\n",
    "    json.dump(friends_data, f, ensure_ascii=False, indent=4)\n",
    "\n",
    "print(\"Данные сохранены в 'friends_data.json'\")"
   ]
  },
  {
   "cell_type": "code",
   "execution_count": 63,
   "metadata": {},
   "outputs": [],
   "source": [
    "import networkx as nx\n",
    "import matplotlib.pyplot as plt\n",
    "import json\n",
    "\n",
    "# Загрузка данных из JSON-файла\n",
    "with open('friends_data.json', 'r', encoding='utf-8') as f:\n",
    "    friends_data = json.load(f)\n",
    "\n",
    "# Создание графа\n",
    "G = nx.Graph()\n"
   ]
  },
  {
   "cell_type": "code",
   "execution_count": 68,
   "metadata": {},
   "outputs": [
    {
     "name": "stdout",
     "output_type": "stream",
     "text": [
      "325863\n"
     ]
    }
   ],
   "source": [
    "edges_to_add = []\n",
    "for user_id, friends in friends_data.items():\n",
    "        for friend_id in friends:\n",
    "            edges_to_add.append((user_id, friend_id))  # Сохраняем ребро\n",
    "print(len(edges_to_add))"
   ]
  },
  {
   "cell_type": "code",
   "execution_count": 69,
   "metadata": {},
   "outputs": [
    {
     "name": "stdout",
     "output_type": "stream",
     "text": [
      "260623\n"
     ]
    }
   ],
   "source": [
    "all_friends = set(friend for friends in friends_data.values() for friend in friends)\n",
    "print(len(all_friends))"
   ]
  },
  {
   "cell_type": "code",
   "execution_count": 70,
   "metadata": {},
   "outputs": [],
   "source": [
    "G.add_nodes_from(all_friends)\n",
    "G.add_edges_from(edges_to_add)"
   ]
  },
  {
   "cell_type": "code",
   "execution_count": 71,
   "metadata": {},
   "outputs": [],
   "source": [
    "nx.write_gexf(G, \"0.gexf\")"
   ]
  }
 ],
 "metadata": {
  "kernelspec": {
   "display_name": "parse-env",
   "language": "python",
   "name": "python3"
  },
  "language_info": {
   "codemirror_mode": {
    "name": "ipython",
    "version": 3
   },
   "file_extension": ".py",
   "mimetype": "text/x-python",
   "name": "python",
   "nbconvert_exporter": "python",
   "pygments_lexer": "ipython3",
   "version": "3.11.9"
  }
 },
 "nbformat": 4,
 "nbformat_minor": 2
}
